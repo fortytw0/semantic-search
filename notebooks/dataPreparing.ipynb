{
  "nbformat": 4,
  "nbformat_minor": 0,
  "metadata": {
    "colab": {
      "provenance": [],
      "mount_file_id": "1uNQSCcbPmRgUTLhPHJ2Nk__seoyW6sf2",
      "authorship_tag": "ABX9TyObfu1HpbLqhTQ9n8vhZGtD"
    },
    "kernelspec": {
      "name": "python3",
      "display_name": "Python 3"
    },
    "language_info": {
      "name": "python"
    }
  },
  "cells": [
    {
      "cell_type": "markdown",
      "source": [
        "Conduct data preparing on sample data. <br>\n",
        "Link to the data file: https://drive.google.com/file/d/18iDySZLhAOAnZbFiD84y5laieZHqWRli/view?usp=sharing"
      ],
      "metadata": {
        "id": "HmXKsshX1DvR"
      }
    },
    {
      "cell_type": "markdown",
      "source": [
        "## References"
      ],
      "metadata": {
        "id": "jj17J7d_1Avy"
      }
    },
    {
      "cell_type": "markdown",
      "source": [
        "https://sparkbyexamples.com/pyspark/pyspark-read-json-file-into-dataframe/"
      ],
      "metadata": {
        "id": "zpiv21gX1CxU"
      }
    },
    {
      "cell_type": "markdown",
      "source": [
        "## set ups"
      ],
      "metadata": {
        "id": "EgAOHhvE0270"
      }
    },
    {
      "cell_type": "code",
      "execution_count": 26,
      "metadata": {
        "id": "ygC7uMVcmmDU"
      },
      "outputs": [],
      "source": [
        "!cp /content/drive/MyDrive/CSCI5253/RC_2022-06.zip ./"
      ]
    },
    {
      "cell_type": "code",
      "source": [
        "!unzip /content/RC_2022-06.zip"
      ],
      "metadata": {
        "colab": {
          "base_uri": "https://localhost:8080/"
        },
        "id": "QP-8XCjUnBrW",
        "outputId": "5d21852e-fc14-44de-e346-23d780f45965"
      },
      "execution_count": 2,
      "outputs": [
        {
          "output_type": "stream",
          "name": "stdout",
          "text": [
            "Archive:  /content/RC_2022-06.zip\n",
            "  inflating: RC_2022-06              \n"
          ]
        }
      ]
    },
    {
      "cell_type": "code",
      "source": [
        "!pip install pyspark"
      ],
      "metadata": {
        "colab": {
          "base_uri": "https://localhost:8080/"
        },
        "id": "h9khJm3HnHrY",
        "outputId": "9b2e5ce2-d2aa-4229-8334-77a74bfc3c1d"
      },
      "execution_count": 71,
      "outputs": [
        {
          "output_type": "stream",
          "name": "stdout",
          "text": [
            "Looking in indexes: https://pypi.org/simple, https://us-python.pkg.dev/colab-wheels/public/simple/\n",
            "Requirement already satisfied: pyspark in /usr/local/lib/python3.7/dist-packages (3.3.0)\n",
            "Requirement already satisfied: py4j==0.10.9.5 in /usr/local/lib/python3.7/dist-packages (from pyspark) (0.10.9.5)\n"
          ]
        }
      ]
    },
    {
      "cell_type": "markdown",
      "source": [
        "## read and preprocess data"
      ],
      "metadata": {
        "id": "nXkX7CIi05QO"
      }
    },
    {
      "cell_type": "code",
      "source": [
        "import json\n",
        "import pandas as pd"
      ],
      "metadata": {
        "id": "VLEDO4BGnLer"
      },
      "execution_count": 40,
      "outputs": []
    },
    {
      "cell_type": "code",
      "source": [
        "with open('/content/RC_2022-06', 'rb') as f:\n",
        "  data = [str(n) for n in f]"
      ],
      "metadata": {
        "id": "ZdUQfpwtnZTs"
      },
      "execution_count": 41,
      "outputs": []
    },
    {
      "cell_type": "code",
      "source": [
        "with open('/content/RC_2022-06', 'rb') as f:\n",
        "  data = f.readlines()"
      ],
      "metadata": {
        "id": "5gGaPrUUsGZY"
      },
      "execution_count": 64,
      "outputs": []
    },
    {
      "cell_type": "code",
      "source": [
        "sample_data = [json.loads(n.decode('utf-8')) for n in data[:50]]"
      ],
      "metadata": {
        "id": "JkJ7ISYmsm0U"
      },
      "execution_count": 70,
      "outputs": []
    },
    {
      "cell_type": "code",
      "source": [
        "with open('sample_data.json', 'w') as f:\n",
        "    json.dump(sample_data, f)"
      ],
      "metadata": {
        "id": "o0_j2CDyz_Ch"
      },
      "execution_count": 76,
      "outputs": []
    },
    {
      "cell_type": "markdown",
      "source": [
        "## Pyspark"
      ],
      "metadata": {
        "id": "zgCMnQwf08pU"
      }
    },
    {
      "cell_type": "code",
      "source": [
        "from pyspark import SparkContext, SparkConf\n",
        "from pyspark.sql import SparkSession\n",
        "from pyspark.sql.functions import col, count, countDistinct"
      ],
      "metadata": {
        "id": "kb0h0XMfbo7i"
      },
      "execution_count": 73,
      "outputs": []
    },
    {
      "cell_type": "code",
      "source": [
        "spark = SparkSession \\\n",
        "    .builder \\\n",
        "    .appName(\"sample\") \\\n",
        "    .master(\"local[*]\")\\\n",
        "    .getOrCreate()"
      ],
      "metadata": {
        "id": "p4jZz2UtztlI"
      },
      "execution_count": 74,
      "outputs": []
    },
    {
      "cell_type": "code",
      "source": [
        "sample_df = spark.read.option(\"multiline\",\"true\") \\\n",
        "      .json(\"sample_data.json\")"
      ],
      "metadata": {
        "id": "NTReHnAfz0y_"
      },
      "execution_count": 77,
      "outputs": []
    },
    {
      "cell_type": "code",
      "source": [
        "sample_df.show()"
      ],
      "metadata": {
        "colab": {
          "base_uri": "https://localhost:8080/"
        },
        "id": "m88uRhQ10vFw",
        "outputId": "1a403774-8915-4564-e983-0f3bf20d210b"
      },
      "execution_count": 78,
      "outputs": [
        {
          "output_type": "stream",
          "name": "stdout",
          "text": [
            "+-------------+--------+----------------+---------------+------------------+-----------------------------+----------------------+---------------------+------------------------+--------------------+-----------------------+-----------------+---------------+--------------------+--------------+--------------------+--------+---------+-------------------------------+--------------------+---------------------+------------+----------------+-----------+-------------+-------------+------+-------+------------+---------+------+----------+---------+----------+--------------------+------------+-----+------------+------------+--------+---------------+------------+-----------------------+--------------+----------------+---------------------+--------------+------------------+\n",
            "|all_awardings|archived|associated_award|         author|author_created_utc|author_flair_background_color|author_flair_css_class|author_flair_richtext|author_flair_template_id|   author_flair_text|author_flair_text_color|author_flair_type|author_fullname|author_patreon_flair|author_premium|                body|can_gild|collapsed|collapsed_because_crowd_control|    collapsed_reason|collapsed_reason_code|comment_type|controversiality|created_utc|distinguished|       edited|gilded|     id|is_submitter|  link_id|locked|      name|no_follow| parent_id|           permalink|retrieved_on|score|score_hidden|send_replies|stickied|      subreddit|subreddit_id|subreddit_name_prefixed|subreddit_type|top_awarded_type|total_awards_received|treatment_tags|unrepliable_reason|\n",
            "+-------------+--------+----------------+---------------+------------------+-----------------------------+----------------------+---------------------+------------------------+--------------------+-----------------------+-----------------+---------------+--------------------+--------------+--------------------+--------+---------+-------------------------------+--------------------+---------------------+------------+----------------+-----------+-------------+-------------+------+-------+------------+---------+------+----------+---------+----------+--------------------+------------+-----+------------+------------+--------+---------------+------------+-----------------------+--------------+----------------+---------------------+--------------+------------------+\n",
            "|           []|   false|            null|      SirDoober|        1408517864|                         null|                  null|                   []|                    null|                null|                   null|             text|       t2_hynq4|               false|         false|Ah yes, another c...|    true|    false|                           null|                null|                 null|        null|               0| 1654041604|         null|        false|     0|iaq4pir|       false|t3_v22cs6| false|t1_iaq4pir|    false| t3_v22cs6|/r/Dislyte/commen...|  1655327146|    9|       false|        true|   false|        Dislyte|   t5_436za6|              r/Dislyte|        public|            null|                    0|            []|              null|\n",
            "|           []|   false|            null|       petewsop|        1632709565|                      #0dd3bb|                  null| [{null, text, Har...|    e757aca6-5368-11e...|Harvesting Ape Tears|                   dark|         richtext|    t2_ev3vhkgu|               false|         false|But Gamestop has ...|    true|    false|                           null|                null|                 null|        null|               0| 1654041605|         null|        false|     0|iaq4plv|       false|t3_v23aqg| false|t1_iaq4plv|    false| t3_v23aqg|/r/gme_meltdown/c...|  1655327147|   40|       false|        true|   false|   gme_meltdown|   t5_3vpfzk|         r/gme_meltdown|        public|            null|                    0|            []|              null|\n",
            "|           []|   false|            null|     sfbiker999|        1639505451|                         null|                  null|                   []|                    null|                null|                   null|             text|    t2_dtd9nmak|               false|         false|&gt;What makes th...|    true|    false|                           null|                null|                 null|        null|               0| 1654041606|         null|1.654043594E9|     0|iaq4pnf|       false|t3_v22wbe| false|t1_iaq4pnf|     true|t1_iaq3s51|/r/preppers/comme...|  1655327147|    1|       false|        true|   false|       preppers|    t5_2riow|             r/preppers|        public|            null|                    0|            []|              null|\n",
            "|           []|   false|            null|  Limp-Suit3948|        1622912362|                         null|                  null|                   []|                    null|                null|                   null|             text|    t2_1z0i5e4t|               false|         false|Because their lov...|    true|    false|                           null|                null|                 null|        null|               0| 1654041613|         null|        false|     0|iaq4q7v|       false|t3_ux7928| false|t1_iaq4q7v|     true|t1_ia2b57n|/r/PeakyBlinders/...|  1655327146|    1|       false|        true|   false|  PeakyBlinders|    t5_2y8zl|        r/PeakyBlinders|        public|            null|                    0|            []|              null|\n",
            "|           []|   false|            null|         yetshi|        1285261076|                         null|                  null|                   []|                    null|                null|                   null|             text|       t2_4daar|               false|         false|Dulse if you coun...|    true|    false|                           null|                null|                 null|        null|               0| 1654041616|         null|        false|     0|iaq4qfe|       false|t3_v1z3qt| false|t1_iaq4qfe|     true| t3_v1z3qt|/r/preppers/comme...|  1655327146|    1|       false|        true|   false|       preppers|    t5_2riow|             r/preppers|        public|            null|                    0|            []|              null|\n",
            "|           []|   false|            null| Paradigm_Reset|        1572586831|                         null|                  null|                   []|                    null|                null|                   null|             text|    t2_4x60epb0|               false|         false|https://help.mine...|    true|    false|                           null|                null|                 null|        null|               0| 1654041619|         null|        false|     0|iaq4qmk|       false|t3_v23hqr| false|t1_iaq4qmk|     true|t1_iaq4j7w|/r/Minecraft/comm...|  1655327145|    3|       false|        true|   false|      Minecraft|    t5_2r05i|            r/Minecraft|        public|            null|                    0|            []|              null|\n",
            "|           []|   false|            null|      m_d_f_l_c|        1529620728|                         null|                  null|                   []|                    null|                null|                   null|             text|    t2_1mb2n73o|               false|         false|Gotta_go_fast.gif...|    true|    false|                           null|                null|                 null|        null|               0| 1654041622|         null|        false|     0|iaq4qu7|       false|t3_v12m6x| false|t1_iaq4qu7|     true| t3_v12m6x|/r/preppers/comme...|  1655327145|    2|       false|        true|   false|       preppers|    t5_2riow|             r/preppers|        public|            null|                    0|            []|              null|\n",
            "|           []|   false|            null|  AutoModerator|        1325741068|                         null|                  null|                   []|                    null|                null|                   null|             text|       t2_6l4z3|               false|          true|Welcome to JerkBu...|    true|    false|                           null|                null|                 null|        null|               0| 1654041623|    moderator|        false|     0|iaq4qv0|       false|t3_v23rb8| false|t1_iaq4qv0|     true| t3_v23rb8|/r/JerkBuds/comme...|  1655327145|    1|       false|       false|   false|       JerkBuds|   t5_2vb08b|             r/JerkBuds|        public|            null|                    0|            []|              null|\n",
            "|           []|   false|            null|       autotldr|        1327941580|                      #dadada|                  null| [{null, text, 🤖 ...|    41db32d2-9c2f-11e...|              🤖 Bot|                   dark|         richtext|       t2_6sklr|               false|         false|This is the best ...|    true|    false|                           null|                null|                 null|        null|               0| 1654041625|         null|        false|     0|iaq4r1c|       false|t3_v22vvk| false|t1_iaq4r1c|     true| t3_v22vvk|/r/politics/comme...|  1655327144|    2|       false|        true|   false|       politics|    t5_2cneq|             r/politics|        public|            null|                    0|            []|              null|\n",
            "|           []|   false|            null|angryturtleboat|        1636601285|                         null|                  null|                   []|                    null|                null|                   null|             text|    t2_gfbdc8hy|               false|         false|🤦🏻‍♀️ look up D...|    true|    false|                           null|                null|                 null|        null|               0| 1654041632|         null|        false|     0|iaq4rk7|       false|t3_v22jij| false|t1_iaq4rk7|    false|t1_iapzrra|/r/Makeup/comment...|  1655327144|    4|       false|        true|   false|         Makeup|    t5_2qrwc|               r/Makeup|        public|            null|                    0|            []|              null|\n",
            "|           []|   false|            null|        Solace-|        1374693813|                         null|                  null|                   []|                    null|                null|                   null|             text|       t2_chygz|               false|         false|Hits Netflix June...|    true|    false|                           null|                null|                 null|        null|               0| 1654041633|         null|        false|     0|iaq4rnb|       false|t3_v1zu89| false|t1_iaq4rnb|     true|t1_iaq1ff9|/r/PeakyBlinders/...|  1655327144|    3|       false|        true|   false|  PeakyBlinders|    t5_2y8zl|        r/PeakyBlinders|        public|            null|                    0|            []|              null|\n",
            "|           []|   false|            null|           Obi2|        1337464152|                             |               Pacers7| [{null, text, Old...|                    null|   Old School Pacers|                   dark|         richtext|       t2_7rcya|               false|         false|You are right. Pa...|    true|    false|                           null|                null|                 null|        null|               0| 1654041633|         null|        false|     0|iaq4rnm|       false|t3_v1rmos| false|t1_iaq4rnm|    false|t1_iaq47oy|/r/pacers/comment...|  1655327144|    7|       false|        true|   false|         pacers|    t5_2sg71|               r/pacers|        public|            null|                    0|            []|              null|\n",
            "|           []|   false|            null|      sexypebbs|        1615233579|                         null|                  null|                   []|                    null|                null|                   null|             text|    t2_ascjjf65|               false|          true|I'm always social...|    true|    false|                           null|                null|                 null|        null|               0| 1654041637|         null|        false|     0|iaq4rwa|        true|t3_v23nga| false|t1_iaq4rwa|     true|t1_iaq4eul|/r/BlindCreekBeac...|  1655327144|    2|       false|        true|   false|BlindCreekBeach|   t5_3kaimj|      r/BlindCreekBeach|        public|            null|                    0|            []|              null|\n",
            "|           []|   false|            null|      PinkieBen|        1328413590|                         null|                  null|                   []|                    null|                null|                   null|             text|       t2_6ubkr|               false|         false|Wtf Sonic and I s...|    true|    false|                           null|                null|                 null|        null|               0| 1654041640|         null|        false|     0|iaq4s37|       false|t3_v1tll1| false|t1_iaq4s37|    false|t1_iaol4k2|/r/Games/comments...|  1655327143|    5|       false|        true|   false|          Games|    t5_2qhwp|                r/Games|        public|            null|                    0|            []|              null|\n",
            "|           []|   false|            null|    papa_barath|        1563917755|                         null|                  null|                   []|                    null|                null|                   null|             text|    t2_47xmpzp0|               false|         false|Apparently it was...|    true|    false|                           null|                null|                 null|        null|               0| 1654041640|         null|        false|     0|iaq4s3l|       false|t3_tvgrrq| false|t1_iaq4s3l|    false|t1_ia47fvk|/r/PeakyBlinders/...|  1655327143|    6|       false|        true|   false|  PeakyBlinders|    t5_2y8zl|        r/PeakyBlinders|        public|            null|                    0|            []|              null|\n",
            "|           []|   false|            null|     BuckSleezy|        1465499318|                         null|                  null|                   []|                    null|                null|                   null|             text|       t2_yl8u7|               false|         false|          Who asked?|    true|     true|                           null|comment score bel...|            LOW_SCORE|        null|               0| 1654041648|         null|        false|     0|iaq4srd|       false|t3_v1qqw1| false|t1_iaq4srd|     true|t1_iaq2j64|/r/Games/comments...|  1655327142|  -31|       false|        true|   false|          Games|    t5_2qhwp|                r/Games|        public|            null|                    0|            []|              null|\n",
            "|           []|   false|            null|      sexypebbs|        1615233579|                         null|                  null|                   []|                    null|                null|                   null|             text|    t2_ascjjf65|               false|          true|      Awesome place!|    true|    false|                           null|                null|                 null|        null|               0| 1654041649|         null|        false|     0|iaq4ss2|        true|t3_v23nga| false|t1_iaq4ss2|     true|t1_iaq4c10|/r/BlindCreekBeac...|  1655327142|    3|       false|        true|   false|BlindCreekBeach|   t5_3kaimj|      r/BlindCreekBeach|        public|            null|                    0|            []|              null|\n",
            "|           []|   false|            null| hospitalityNow|        1552269023|                      #d3d6da|                  null| [{null, text, cus...|    234c5a54-6593-11e...|              custom|                   dark|         richtext|    t2_3dvi0rw2|               false|         false|Data entry/data c...|    true|    false|                           null|                null|                 null|        null|               0| 1654041650|         null|        false|     0|iaq4sv6|       false|t3_v23b2l| false|t1_iaq4sv6|    false| t3_v23b2l|/r/196/comments/v...|  1655327142|    5|       false|        true|   false|            196|    t5_2v92f|                  r/196|        public|            null|                    0|            []|              null|\n",
            "|           []|   false|            null|     ZenoofElia|        1391392669|                         null|                  null|                   []|                    null|                null|                   null|             text|       t2_f3ifc|               false|         false|I own the metals,...|    true|    false|                           null|                null|                 null|        null|               0| 1654041650|         null|        false|     0|iaq4sxi|       false|t3_v1qd2e| false|t1_iaq4sxi|    false|t1_iapuyvf|/r/preppers/comme...|  1655327143|   28|       false|        true|   false|       preppers|    t5_2riow|             r/preppers|        public|            null|                    0|            []|              null|\n",
            "|           []|   false|            null|    Dai-Dai1201|        1550016001|                      #005ba1|                   ps4| [{null, text, PLA...|    d7015d24-2bbc-11e...|         PLAYSTATION|                  light|         richtext|    t2_35kz8dlg|               false|         false|I like the way yo...|    true|    false|                           null|                null|                 null|        null|               0| 1654041653|         null|        false|     0|iaq4t3y|        true|t3_v1vsn2| false|t1_iaq4t3y|     true|t1_iaq3t34|/r/WWEGames/comme...|  1655327142|    3|       false|        true|   false|       WWEGames|    t5_2t9bx|             r/WWEGames|        public|            null|                    0|            []|              null|\n",
            "+-------------+--------+----------------+---------------+------------------+-----------------------------+----------------------+---------------------+------------------------+--------------------+-----------------------+-----------------+---------------+--------------------+--------------+--------------------+--------+---------+-------------------------------+--------------------+---------------------+------------+----------------+-----------+-------------+-------------+------+-------+------------+---------+------+----------+---------+----------+--------------------+------------+-----+------------+------------+--------+---------------+------------+-----------------------+--------------+----------------+---------------------+--------------+------------------+\n",
            "only showing top 20 rows\n",
            "\n"
          ]
        }
      ]
    },
    {
      "cell_type": "code",
      "source": [],
      "metadata": {
        "id": "wkkE3FQy0w5k"
      },
      "execution_count": null,
      "outputs": []
    }
  ]
}